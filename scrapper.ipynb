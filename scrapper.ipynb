{
 "cells": [
  {
   "cell_type": "markdown",
   "metadata": {},
   "source": [
    "# Scrapper para obtener información de búsqueda de google (LinkdIn y/o Facebook)"
   ]
  },
  {
   "cell_type": "code",
   "execution_count": 16,
   "metadata": {},
   "outputs": [],
   "source": [
    "from selenium import webdriver\n",
    "from selenium.webdriver.common.by import By\n",
    "from selenium.webdriver.common.keys import Keys\n",
    "from selenium.webdriver.chrome.options import Options\n",
    "from selenium.webdriver.support.ui import WebDriverWait\n",
    "from selenium.webdriver.support import expected_conditions as EC\n",
    "from selenium.common.exceptions import TimeoutException\n",
    "from bs4 import BeautifulSoup\n",
    "import time\n",
    "import pandas as pd\n",
    "from tqdm import tqdm"
   ]
  },
  {
   "cell_type": "markdown",
   "metadata": {},
   "source": [
    "## Conexión al navegador"
   ]
  },
  {
   "cell_type": "code",
   "execution_count": 17,
   "metadata": {},
   "outputs": [],
   "source": [
    "chrome_options = Options()\n",
    "driver = webdriver.Chrome(options=chrome_options)\n",
    "start_url = 'https://google.com'\n",
    "driver.get(start_url)\n",
    "# Modificar el tamaño de la ventana\n",
    "#driver.execute_script(\"document.body.style.zoom='50%'\")"
   ]
  },
  {
   "cell_type": "markdown",
   "metadata": {},
   "source": [
    "## Lectura de archivos csv para obtener nombres"
   ]
  },
  {
   "cell_type": "code",
   "execution_count": 29,
   "metadata": {},
   "outputs": [
    {
     "data": {
      "text/plain": [
       "(28694,)"
      ]
     },
     "execution_count": 29,
     "metadata": {},
     "output_type": "execute_result"
    }
   ],
   "source": [
    "df_filtered.shape"
   ]
  },
  {
   "cell_type": "code",
   "execution_count": 20,
   "metadata": {},
   "outputs": [
    {
     "data": {
      "text/html": [
       "<div>\n",
       "<style scoped>\n",
       "    .dataframe tbody tr th:only-of-type {\n",
       "        vertical-align: middle;\n",
       "    }\n",
       "\n",
       "    .dataframe tbody tr th {\n",
       "        vertical-align: top;\n",
       "    }\n",
       "\n",
       "    .dataframe thead th {\n",
       "        text-align: right;\n",
       "    }\n",
       "</style>\n",
       "<table border=\"1\" class=\"dataframe\">\n",
       "  <thead>\n",
       "    <tr style=\"text-align: right;\">\n",
       "      <th></th>\n",
       "      <th>Nombre</th>\n",
       "    </tr>\n",
       "  </thead>\n",
       "  <tbody>\n",
       "    <tr>\n",
       "      <th>201</th>\n",
       "      <td>\"JUAN ANTONIO VEGA RODRIGUEZ\"</td>\n",
       "    </tr>\n",
       "    <tr>\n",
       "      <th>202</th>\n",
       "      <td>\"FRANCISCO JAVIER RODRIGUEZ RUIZ\"</td>\n",
       "    </tr>\n",
       "    <tr>\n",
       "      <th>203</th>\n",
       "      <td>\"CRISTIAN ADRIAN TOVAR TORRES\"</td>\n",
       "    </tr>\n",
       "    <tr>\n",
       "      <th>204</th>\n",
       "      <td>\"SANTIAGO EUSEBIO GONZALEZ\"</td>\n",
       "    </tr>\n",
       "    <tr>\n",
       "      <th>205</th>\n",
       "      <td>\"MA ISABEL BALDERAS RAMIREZ\"</td>\n",
       "    </tr>\n",
       "  </tbody>\n",
       "</table>\n",
       "</div>"
      ],
      "text/plain": [
       "                                Nombre\n",
       "201      \"JUAN ANTONIO VEGA RODRIGUEZ\"\n",
       "202  \"FRANCISCO JAVIER RODRIGUEZ RUIZ\"\n",
       "203     \"CRISTIAN ADRIAN TOVAR TORRES\"\n",
       "204        \"SANTIAGO EUSEBIO GONZALEZ\"\n",
       "205       \"MA ISABEL BALDERAS RAMIREZ\""
      ]
     },
     "execution_count": 20,
     "metadata": {},
     "output_type": "execute_result"
    }
   ],
   "source": [
    "init=200\n",
    "final=1000\n",
    "\n",
    "df = pd.read_excel('Z:/Data/HSBC/Asignaciones/ASG_TDC_IA_ENERO_JUNIO.xlsx')\n",
    "df['Nombre'] = df.Nombre.apply(lambda X: '\"'+X.replace('/', ' ').replace('*', '').rstrip()+'\"')\n",
    "df_filtered = df['Nombre']\n",
    "df_filtered.drop_duplicates(inplace=True)\n",
    "df_input = pd.DataFrame(df_filtered).iloc[init:final]\n",
    "df_input.head()"
   ]
  },
  {
   "cell_type": "code",
   "execution_count": null,
   "metadata": {},
   "outputs": [],
   "source": [
    "init=200\n",
    "final=1000\n",
    "\n",
    "df = pd.read_excel('Z:/Data/HSBC/Asignaciones/ASG_TDC_IA_ENERO_JUNIO.xlsx')\n",
    "df['Nombre'] = df.Nombre.apply(lambda X: X.replace('/', ' ').replace('*', '').rstrip())\n",
    "df_filtered = df['Nombre']\n",
    "df_filtered.drop_duplicates(inplace=True)\n",
    "df_input = pd.DataFrame(df_filtered).iloc[init:final]\n",
    "df_input.head()"
   ]
  },
  {
   "cell_type": "markdown",
   "metadata": {},
   "source": [
    "# Scrapper"
   ]
  },
  {
   "cell_type": "markdown",
   "metadata": {},
   "source": [
    "## Concatenado de etiquetas"
   ]
  },
  {
   "cell_type": "code",
   "execution_count": 15,
   "metadata": {},
   "outputs": [
    {
     "name": "stderr",
     "output_type": "stream",
     "text": [
      "  7%|▋         | 54/800 [08:12<1:53:23,  9.12s/it]\n"
     ]
    },
    {
     "ename": "NoSuchWindowException",
     "evalue": "Message: no such window: target window already closed\nfrom unknown error: web view not found\n  (Session info: chrome=114.0.5735.199)\nStacktrace:\nBacktrace:\n\tGetHandleVerifier [0x00EBA813+48355]\n\t(No symbol) [0x00E4C4B1]\n\t(No symbol) [0x00D55358]\n\t(No symbol) [0x00D3D293]\n\t(No symbol) [0x00D9E37B]\n\t(No symbol) [0x00DAC473]\n\t(No symbol) [0x00D9A536]\n\t(No symbol) [0x00D782DC]\n\t(No symbol) [0x00D793DD]\n\tGetHandleVerifier [0x0111AABD+2539405]\n\tGetHandleVerifier [0x0115A78F+2800735]\n\tGetHandleVerifier [0x0115456C+2775612]\n\tGetHandleVerifier [0x00F451E0+616112]\n\t(No symbol) [0x00E55F8C]\n\t(No symbol) [0x00E52328]\n\t(No symbol) [0x00E5240B]\n\t(No symbol) [0x00E44FF7]\n\tBaseThreadInitThunk [0x770805C9+25]\n\tRtlGetAppContainerNamedObjectPath [0x773E77AD+237]\n\tRtlGetAppContainerNamedObjectPath [0x773E777D+189]\n",
     "output_type": "error",
     "traceback": [
      "\u001b[1;31m---------------------------------------------------------------------------\u001b[0m",
      "\u001b[1;31mNoSuchWindowException\u001b[0m                     Traceback (most recent call last)",
      "Cell \u001b[1;32mIn[15], line 62\u001b[0m\n\u001b[0;32m     59\u001b[0m \u001b[39melse\u001b[39;00m:\n\u001b[0;32m     60\u001b[0m     data_\u001b[39m.\u001b[39mappend({\u001b[39m'\u001b[39m\u001b[39mText\u001b[39m\u001b[39m'\u001b[39m: \u001b[39mNone\u001b[39;00m})\n\u001b[1;32m---> 62\u001b[0m google \u001b[39m=\u001b[39m wait\u001b[39m.\u001b[39;49muntil(EC\u001b[39m.\u001b[39;49mpresence_of_element_located((By\u001b[39m.\u001b[39;49mXPATH, \u001b[39m'\u001b[39;49m\u001b[39m//*[@id=\u001b[39;49m\u001b[39m\"\u001b[39;49m\u001b[39mlogo\u001b[39;49m\u001b[39m\"\u001b[39;49m\u001b[39m]\u001b[39;49m\u001b[39m'\u001b[39;49m)))\n\u001b[0;32m     63\u001b[0m google\u001b[39m.\u001b[39mclick()\n\u001b[0;32m     65\u001b[0m \u001b[39m#driver.quit()\u001b[39;00m\n\u001b[0;32m     66\u001b[0m \n\u001b[0;32m     67\u001b[0m \u001b[39m# Rellenar los datos faltantes en data y data_ para tener la misma longitud\u001b[39;00m\n",
      "File \u001b[1;32mc:\\Users\\DSTHREE\\AppData\\Local\\anaconda3\\lib\\site-packages\\selenium\\webdriver\\support\\wait.py:86\u001b[0m, in \u001b[0;36mWebDriverWait.until\u001b[1;34m(self, method, message)\u001b[0m\n\u001b[0;32m     84\u001b[0m \u001b[39mwhile\u001b[39;00m \u001b[39mTrue\u001b[39;00m:\n\u001b[0;32m     85\u001b[0m     \u001b[39mtry\u001b[39;00m:\n\u001b[1;32m---> 86\u001b[0m         value \u001b[39m=\u001b[39m method(\u001b[39mself\u001b[39;49m\u001b[39m.\u001b[39;49m_driver)\n\u001b[0;32m     87\u001b[0m         \u001b[39mif\u001b[39;00m value:\n\u001b[0;32m     88\u001b[0m             \u001b[39mreturn\u001b[39;00m value\n",
      "File \u001b[1;32mc:\\Users\\DSTHREE\\AppData\\Local\\anaconda3\\lib\\site-packages\\selenium\\webdriver\\support\\expected_conditions.py:82\u001b[0m, in \u001b[0;36mpresence_of_element_located.<locals>._predicate\u001b[1;34m(driver)\u001b[0m\n\u001b[0;32m     81\u001b[0m \u001b[39mdef\u001b[39;00m \u001b[39m_predicate\u001b[39m(driver):\n\u001b[1;32m---> 82\u001b[0m     \u001b[39mreturn\u001b[39;00m driver\u001b[39m.\u001b[39;49mfind_element(\u001b[39m*\u001b[39;49mlocator)\n",
      "File \u001b[1;32mc:\\Users\\DSTHREE\\AppData\\Local\\anaconda3\\lib\\site-packages\\selenium\\webdriver\\remote\\webdriver.py:740\u001b[0m, in \u001b[0;36mWebDriver.find_element\u001b[1;34m(self, by, value)\u001b[0m\n\u001b[0;32m    737\u001b[0m     by \u001b[39m=\u001b[39m By\u001b[39m.\u001b[39mCSS_SELECTOR\n\u001b[0;32m    738\u001b[0m     value \u001b[39m=\u001b[39m \u001b[39mf\u001b[39m\u001b[39m'\u001b[39m\u001b[39m[name=\u001b[39m\u001b[39m\"\u001b[39m\u001b[39m{\u001b[39;00mvalue\u001b[39m}\u001b[39;00m\u001b[39m\"\u001b[39m\u001b[39m]\u001b[39m\u001b[39m'\u001b[39m\n\u001b[1;32m--> 740\u001b[0m \u001b[39mreturn\u001b[39;00m \u001b[39mself\u001b[39;49m\u001b[39m.\u001b[39;49mexecute(Command\u001b[39m.\u001b[39;49mFIND_ELEMENT, {\u001b[39m\"\u001b[39;49m\u001b[39musing\u001b[39;49m\u001b[39m\"\u001b[39;49m: by, \u001b[39m\"\u001b[39;49m\u001b[39mvalue\u001b[39;49m\u001b[39m\"\u001b[39;49m: value})[\u001b[39m\"\u001b[39m\u001b[39mvalue\u001b[39m\u001b[39m\"\u001b[39m]\n",
      "File \u001b[1;32mc:\\Users\\DSTHREE\\AppData\\Local\\anaconda3\\lib\\site-packages\\selenium\\webdriver\\remote\\webdriver.py:346\u001b[0m, in \u001b[0;36mWebDriver.execute\u001b[1;34m(self, driver_command, params)\u001b[0m\n\u001b[0;32m    344\u001b[0m response \u001b[39m=\u001b[39m \u001b[39mself\u001b[39m\u001b[39m.\u001b[39mcommand_executor\u001b[39m.\u001b[39mexecute(driver_command, params)\n\u001b[0;32m    345\u001b[0m \u001b[39mif\u001b[39;00m response:\n\u001b[1;32m--> 346\u001b[0m     \u001b[39mself\u001b[39;49m\u001b[39m.\u001b[39;49merror_handler\u001b[39m.\u001b[39;49mcheck_response(response)\n\u001b[0;32m    347\u001b[0m     response[\u001b[39m\"\u001b[39m\u001b[39mvalue\u001b[39m\u001b[39m\"\u001b[39m] \u001b[39m=\u001b[39m \u001b[39mself\u001b[39m\u001b[39m.\u001b[39m_unwrap_value(response\u001b[39m.\u001b[39mget(\u001b[39m\"\u001b[39m\u001b[39mvalue\u001b[39m\u001b[39m\"\u001b[39m, \u001b[39mNone\u001b[39;00m))\n\u001b[0;32m    348\u001b[0m     \u001b[39mreturn\u001b[39;00m response\n",
      "File \u001b[1;32mc:\\Users\\DSTHREE\\AppData\\Local\\anaconda3\\lib\\site-packages\\selenium\\webdriver\\remote\\errorhandler.py:245\u001b[0m, in \u001b[0;36mErrorHandler.check_response\u001b[1;34m(self, response)\u001b[0m\n\u001b[0;32m    243\u001b[0m         alert_text \u001b[39m=\u001b[39m value[\u001b[39m\"\u001b[39m\u001b[39malert\u001b[39m\u001b[39m\"\u001b[39m]\u001b[39m.\u001b[39mget(\u001b[39m\"\u001b[39m\u001b[39mtext\u001b[39m\u001b[39m\"\u001b[39m)\n\u001b[0;32m    244\u001b[0m     \u001b[39mraise\u001b[39;00m exception_class(message, screen, stacktrace, alert_text)  \u001b[39m# type: ignore[call-arg]  # mypy is not smart enough here\u001b[39;00m\n\u001b[1;32m--> 245\u001b[0m \u001b[39mraise\u001b[39;00m exception_class(message, screen, stacktrace)\n",
      "\u001b[1;31mNoSuchWindowException\u001b[0m: Message: no such window: target window already closed\nfrom unknown error: web view not found\n  (Session info: chrome=114.0.5735.199)\nStacktrace:\nBacktrace:\n\tGetHandleVerifier [0x00EBA813+48355]\n\t(No symbol) [0x00E4C4B1]\n\t(No symbol) [0x00D55358]\n\t(No symbol) [0x00D3D293]\n\t(No symbol) [0x00D9E37B]\n\t(No symbol) [0x00DAC473]\n\t(No symbol) [0x00D9A536]\n\t(No symbol) [0x00D782DC]\n\t(No symbol) [0x00D793DD]\n\tGetHandleVerifier [0x0111AABD+2539405]\n\tGetHandleVerifier [0x0115A78F+2800735]\n\tGetHandleVerifier [0x0115456C+2775612]\n\tGetHandleVerifier [0x00F451E0+616112]\n\t(No symbol) [0x00E55F8C]\n\t(No symbol) [0x00E52328]\n\t(No symbol) [0x00E5240B]\n\t(No symbol) [0x00E44FF7]\n\tBaseThreadInitThunk [0x770805C9+25]\n\tRtlGetAppContainerNamedObjectPath [0x773E77AD+237]\n\tRtlGetAppContainerNamedObjectPath [0x773E777D+189]\n"
     ]
    }
   ],
   "source": [
    "\n",
    "data_ = []\n",
    "data = []\n",
    "nombres = []\n",
    "\n",
    "for i in tqdm(df_input['Nombre']):\n",
    "    \n",
    "    chrome_options = Options()\n",
    "    driver = webdriver.Chrome(options=chrome_options)\n",
    "    start_url = 'https://google.com'\n",
    "    driver.get(start_url)\n",
    "    \n",
    "    nombres.append(i)\n",
    "    wait = WebDriverWait(driver, 100000)\n",
    "    nombre = wait.until(EC.presence_of_element_located((By.CLASS_NAME, 'gLFyf')))\n",
    "    nombre.send_keys(Keys.CONTROL + \"a\")\n",
    "    nombre.send_keys(Keys.DELETE)\n",
    "    nombre.send_keys(i)\n",
    "    nombre.send_keys(Keys.ENTER)\n",
    "\n",
    "    # Esperar a que los resultados de búsqueda se carguen completamente\n",
    "    time.sleep(2)\n",
    "\n",
    "    # Obtener el HTML de la página actual\n",
    "    html_link = driver.page_source\n",
    "    soup = BeautifulSoup(html_link, 'html.parser')\n",
    "\n",
    "    # Extracción de clases\n",
    "    div = soup.find_all('div', class_=\"kvH3mc BToiNc UK95Uc\")\n",
    "    cont = soup.find_all('div', class_=\"Z26q7c UK95Uc\")\n",
    "\n",
    "    # Primer bucle para extraer la clase que conforma el bloque que corresponde al URL desplegado\n",
    "    if div:\n",
    "        for tag in div:\n",
    "            href_tags = tag.find_all('a', href=True)\n",
    "            text = tag.text\n",
    "\n",
    "            for href_tag in href_tags:\n",
    "                href = href_tag['href']\n",
    "\n",
    "                data.append({'href': href, 'Text': text, 'Nombre': i})\n",
    "    else:\n",
    "        data.append({'href': None, 'Text': None, 'Nombre': i})\n",
    "\n",
    "    # Segundo bucle para extraer los resúmenes de las URL desplegadas\n",
    "    if cont:\n",
    "        for tag in cont:\n",
    "            text = ''\n",
    "\n",
    "            span_tags = tag.find_all('span')\n",
    "            if span_tags:\n",
    "                for span_tag in span_tags:\n",
    "                    if span_tag.get('class', []) == ['ITHCWe']:\n",
    "                        continue\n",
    "                    text += span_tag.text.strip() + ' '\n",
    "            else:\n",
    "                text = tag.text.strip()\n",
    "\n",
    "            data_.append({'Text': text.strip()})\n",
    "    else:\n",
    "        data_.append({'Text': None})\n",
    "\n",
    "    google = wait.until(EC.presence_of_element_located((By.XPATH, '//*[@id=\"logo\"]')))\n",
    "    google.click()\n",
    "    \n",
    "    #driver.quit()\n",
    "\n",
    "    # Rellenar los datos faltantes en data y data_ para tener la misma longitud\n",
    "    max_length = max(len(data), len(data_))\n",
    "    data += [{'href': None, 'Text': None}] * (max_length - len(data))\n",
    "    data_ += [{'Text': None}] * (max_length - len(data_))\n",
    "\n",
    "df = pd.DataFrame(data)\n",
    "df_2 = pd.DataFrame(data_)\n",
    "\n",
    "df_3 = pd.concat([df, df_2], axis=1)\n",
    "df_3.dropna(inplace=True)\n",
    "df_3 = df_3[df_3['href'].str.contains('facebook|twitter|instagram|linkedin|misprofesores|.org|tiktok', case=False)]\n",
    "df_3 = df_3[~df_3['href'].str.contains('translate.google')]\n",
    "\n",
    "\n",
    "# Se guarda el df en un csv\n",
    "df_3.to_csv('Z:/Data/HSBC/SCRAPPING/200_1000_.csv')\n",
    "\n"
   ]
  },
  {
   "cell_type": "code",
   "execution_count": null,
   "metadata": {},
   "outputs": [
    {
     "data": {
      "text/html": [
       "<div>\n",
       "<style scoped>\n",
       "    .dataframe tbody tr th:only-of-type {\n",
       "        vertical-align: middle;\n",
       "    }\n",
       "\n",
       "    .dataframe tbody tr th {\n",
       "        vertical-align: top;\n",
       "    }\n",
       "\n",
       "    .dataframe thead th {\n",
       "        text-align: right;\n",
       "    }\n",
       "</style>\n",
       "<table border=\"1\" class=\"dataframe\">\n",
       "  <thead>\n",
       "    <tr style=\"text-align: right;\">\n",
       "      <th></th>\n",
       "      <th>href</th>\n",
       "      <th>Text</th>\n",
       "      <th>Nombre</th>\n",
       "      <th>Text</th>\n",
       "    </tr>\n",
       "  </thead>\n",
       "  <tbody>\n",
       "    <tr>\n",
       "      <th>0</th>\n",
       "      <td>https://m.facebook.com/public/Oscar-Nu%C3%B1ez...</td>\n",
       "      <td>oscar-nuñez-maldonado Perfiles | Facebookfaceb...</td>\n",
       "      <td>OSCAR NUNEZ MALDONADO</td>\n",
       "      <td>Ver perfiles de personas llamadas Oscar Nuñez ...</td>\n",
       "    </tr>\n",
       "    <tr>\n",
       "      <th>1</th>\n",
       "      <td>https://www.facebook.com/oscar.n.maldonado/?lo...</td>\n",
       "      <td>Oscar Nuñez Maldonado | Facebookhttps://www.fa...</td>\n",
       "      <td>OSCAR NUNEZ MALDONADO</td>\n",
       "      <td>Oscar Nuñez Maldonado está en Facebook. Únete ...</td>\n",
       "    </tr>\n",
       "    <tr>\n",
       "      <th>2</th>\n",
       "      <td>https://mx.linkedin.com/in/oscar-maldonado-2b5...</td>\n",
       "      <td>Oscar Maldonado - instructor en seguridad publ...</td>\n",
       "      <td>OSCAR NUNEZ MALDONADO</td>\n",
       "      <td>Área metropolitana de Ciudad de México · instr...</td>\n",
       "    </tr>\n",
       "    <tr>\n",
       "      <th>3</th>\n",
       "      <td>https://mx.linkedin.com/in/oscar-maldonado-671...</td>\n",
       "      <td>Oscar Maldonado - FRAGANCIAS Y ESPECIALIDADESh...</td>\n",
       "      <td>OSCAR NUNEZ MALDONADO</td>\n",
       "      <td>Guadalupe, Nuevo León, México · GERENTE GENERA...</td>\n",
       "    </tr>\n",
       "    <tr>\n",
       "      <th>5</th>\n",
       "      <td>http://repositorio-digital.cide.edu/handle/116...</td>\n",
       "      <td>Browsing Tesis by Author \"Núñez Maldonado, Jor...</td>\n",
       "      <td>OSCAR NUNEZ MALDONADO</td>\n",
       "      <td>... Juárez Mendoza, Alma Cristina; Juárez Mond...</td>\n",
       "    </tr>\n",
       "    <tr>\n",
       "      <th>...</th>\n",
       "      <td>...</td>\n",
       "      <td>...</td>\n",
       "      <td>...</td>\n",
       "      <td>...</td>\n",
       "    </tr>\n",
       "    <tr>\n",
       "      <th>1496</th>\n",
       "      <td>https://es-es.facebook.com/public/Jose-Manuel-...</td>\n",
       "      <td>jose-manuel-garcia-hernandez Perfiles - Facebo...</td>\n",
       "      <td>JOSE MANUEL GARCIA HERNANDEZ</td>\n",
       "      <td>Ver los perfiles de las personas que se llaman...</td>\n",
       "    </tr>\n",
       "    <tr>\n",
       "      <th>1497</th>\n",
       "      <td>https://www.facebook.com/people/Jos%C3%A9-Manu...</td>\n",
       "      <td>José Manuel García Hernández - Facebookhttps:/...</td>\n",
       "      <td>JOSE MANUEL GARCIA HERNANDEZ</td>\n",
       "      <td>José Manuel García Hernández. 5 Me gusta • 5 s...</td>\n",
       "    </tr>\n",
       "    <tr>\n",
       "      <th>1501</th>\n",
       "      <td>https://mx.linkedin.com/in/mar%C3%ADa-constant...</td>\n",
       "      <td>María Constantina Lopez Cortez - Exfarma S.A. ...</td>\n",
       "      <td>CONSTANTINA LOPEZ RODRIGUEZ</td>\n",
       "      <td>Xalapa, Veracruz de Ignacio de la Llave, Méxic...</td>\n",
       "    </tr>\n",
       "    <tr>\n",
       "      <th>1502</th>\n",
       "      <td>https://www.instagram.com/guille_lr9/?hl=es-la</td>\n",
       "      <td>Guillermo López Rodríguez (@guille_lr9) • Inst...</td>\n",
       "      <td>CONSTANTINA LOPEZ RODRIGUEZ</td>\n",
       "      <td>Constantina, Sevilla Lo único imposible es aqu...</td>\n",
       "    </tr>\n",
       "    <tr>\n",
       "      <th>1503</th>\n",
       "      <td>https://www.facebook.com/constantino.lopezrodr...</td>\n",
       "      <td>Constantino Lopez Rodriguez | Facebookfacebook...</td>\n",
       "      <td>CONSTANTINA LOPEZ RODRIGUEZ</td>\n",
       "      <td>Constantino Lopez Rodriguez is on Facebook. Jo...</td>\n",
       "    </tr>\n",
       "  </tbody>\n",
       "</table>\n",
       "<p>504 rows × 4 columns</p>\n",
       "</div>"
      ],
      "text/plain": [
       "                                                   href  \\\n",
       "0     https://m.facebook.com/public/Oscar-Nu%C3%B1ez...   \n",
       "1     https://www.facebook.com/oscar.n.maldonado/?lo...   \n",
       "2     https://mx.linkedin.com/in/oscar-maldonado-2b5...   \n",
       "3     https://mx.linkedin.com/in/oscar-maldonado-671...   \n",
       "5     http://repositorio-digital.cide.edu/handle/116...   \n",
       "...                                                 ...   \n",
       "1496  https://es-es.facebook.com/public/Jose-Manuel-...   \n",
       "1497  https://www.facebook.com/people/Jos%C3%A9-Manu...   \n",
       "1501  https://mx.linkedin.com/in/mar%C3%ADa-constant...   \n",
       "1502     https://www.instagram.com/guille_lr9/?hl=es-la   \n",
       "1503  https://www.facebook.com/constantino.lopezrodr...   \n",
       "\n",
       "                                                   Text  \\\n",
       "0     oscar-nuñez-maldonado Perfiles | Facebookfaceb...   \n",
       "1     Oscar Nuñez Maldonado | Facebookhttps://www.fa...   \n",
       "2     Oscar Maldonado - instructor en seguridad publ...   \n",
       "3     Oscar Maldonado - FRAGANCIAS Y ESPECIALIDADESh...   \n",
       "5     Browsing Tesis by Author \"Núñez Maldonado, Jor...   \n",
       "...                                                 ...   \n",
       "1496  jose-manuel-garcia-hernandez Perfiles - Facebo...   \n",
       "1497  José Manuel García Hernández - Facebookhttps:/...   \n",
       "1501  María Constantina Lopez Cortez - Exfarma S.A. ...   \n",
       "1502  Guillermo López Rodríguez (@guille_lr9) • Inst...   \n",
       "1503  Constantino Lopez Rodriguez | Facebookfacebook...   \n",
       "\n",
       "                            Nombre  \\\n",
       "0            OSCAR NUNEZ MALDONADO   \n",
       "1            OSCAR NUNEZ MALDONADO   \n",
       "2            OSCAR NUNEZ MALDONADO   \n",
       "3            OSCAR NUNEZ MALDONADO   \n",
       "5            OSCAR NUNEZ MALDONADO   \n",
       "...                            ...   \n",
       "1496  JOSE MANUEL GARCIA HERNANDEZ   \n",
       "1497  JOSE MANUEL GARCIA HERNANDEZ   \n",
       "1501   CONSTANTINA LOPEZ RODRIGUEZ   \n",
       "1502   CONSTANTINA LOPEZ RODRIGUEZ   \n",
       "1503   CONSTANTINA LOPEZ RODRIGUEZ   \n",
       "\n",
       "                                                   Text  \n",
       "0     Ver perfiles de personas llamadas Oscar Nuñez ...  \n",
       "1     Oscar Nuñez Maldonado está en Facebook. Únete ...  \n",
       "2     Área metropolitana de Ciudad de México · instr...  \n",
       "3     Guadalupe, Nuevo León, México · GERENTE GENERA...  \n",
       "5     ... Juárez Mendoza, Alma Cristina; Juárez Mond...  \n",
       "...                                                 ...  \n",
       "1496  Ver los perfiles de las personas que se llaman...  \n",
       "1497  José Manuel García Hernández. 5 Me gusta • 5 s...  \n",
       "1501  Xalapa, Veracruz de Ignacio de la Llave, Méxic...  \n",
       "1502  Constantina, Sevilla Lo único imposible es aqu...  \n",
       "1503  Constantino Lopez Rodriguez is on Facebook. Jo...  \n",
       "\n",
       "[504 rows x 4 columns]"
      ]
     },
     "execution_count": 27,
     "metadata": {},
     "output_type": "execute_result"
    }
   ],
   "source": [
    "df_3"
   ]
  },
  {
   "cell_type": "code",
   "execution_count": null,
   "metadata": {},
   "outputs": [],
   "source": [
    "captcha = driver.find_element(By.CLASS_NAME, 'gLFyf')\n",
    "captcha.click()"
   ]
  }
 ],
 "metadata": {
  "kernelspec": {
   "display_name": "base",
   "language": "python",
   "name": "python3"
  },
  "language_info": {
   "codemirror_mode": {
    "name": "ipython",
    "version": 3
   },
   "file_extension": ".py",
   "mimetype": "text/x-python",
   "name": "python",
   "nbconvert_exporter": "python",
   "pygments_lexer": "ipython3",
   "version": "3.10.9"
  },
  "orig_nbformat": 4
 },
 "nbformat": 4,
 "nbformat_minor": 2
}
