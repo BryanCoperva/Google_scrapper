{
 "cells": [
  {
   "cell_type": "markdown",
   "metadata": {},
   "source": [
    "# Scrapper para obtener información de búsqueda de google (LinkdIn y/o Facebook)"
   ]
  },
  {
   "cell_type": "code",
   "execution_count": 16,
   "metadata": {},
   "outputs": [],
   "source": [
    "from selenium import webdriver\n",
    "from selenium.webdriver.common.by import By\n",
    "from selenium.webdriver.common.keys import Keys\n",
    "from selenium.webdriver.chrome.options import Options\n",
    "from selenium.webdriver.support.ui import WebDriverWait\n",
    "from selenium.webdriver.support import expected_conditions as EC\n",
    "from selenium.common.exceptions import TimeoutException\n",
    "from bs4 import BeautifulSoup\n",
    "import time\n",
    "import pandas as pd\n",
    "from tqdm import tqdm"
   ]
  },
  {
   "cell_type": "markdown",
   "metadata": {},
   "source": [
    "## Conexión al navegador"
   ]
  },
  {
   "cell_type": "code",
   "execution_count": 17,
   "metadata": {},
   "outputs": [],
   "source": [
    "chrome_options = Options()\n",
    "driver = webdriver.Chrome(options=chrome_options)\n",
    "start_url = 'https://google.com'\n",
    "driver.get(start_url)\n",
    "# Modificar el tamaño de la ventana\n",
    "#driver.execute_script(\"document.body.style.zoom='50%'\")"
   ]
  },
  {
   "cell_type": "markdown",
   "metadata": {},
   "source": [
    "## Lectura de archivos csv para obtener nombres"
   ]
  },
  {
   "cell_type": "code",
   "execution_count": 29,
   "metadata": {},
   "outputs": [
    {
     "data": {
      "text/plain": [
       "(28694,)"
      ]
     },
     "execution_count": 29,
     "metadata": {},
     "output_type": "execute_result"
    }
   ],
   "source": [
    "df_filtered.shape"
   ]
  },
  {
   "cell_type": "code",
   "execution_count": 20,
   "metadata": {},
   "outputs": [
    {
     "data": {
      "text/html": [
       "<div>\n",
       "<style scoped>\n",
       "    .dataframe tbody tr th:only-of-type {\n",
       "        vertical-align: middle;\n",
       "    }\n",
       "\n",
       "    .dataframe tbody tr th {\n",
       "        vertical-align: top;\n",
       "    }\n",
       "\n",
       "    .dataframe thead th {\n",
       "        text-align: right;\n",
       "    }\n",
       "</style>\n",
       "<table border=\"1\" class=\"dataframe\">\n",
       "  <thead>\n",
       "    <tr style=\"text-align: right;\">\n",
       "      <th></th>\n",
       "      <th>Nombre</th>\n",
       "    </tr>\n",
       "  </thead>\n",
       "  <tbody>\n",
       "    <tr>\n",
       "      <th>201</th>\n",
       "      <td>\"JUAN ANTONIO VEGA RODRIGUEZ\"</td>\n",
       "    </tr>\n",
       "    <tr>\n",
       "      <th>202</th>\n",
       "      <td>\"FRANCISCO JAVIER RODRIGUEZ RUIZ\"</td>\n",
       "    </tr>\n",
       "    <tr>\n",
       "      <th>203</th>\n",
       "      <td>\"CRISTIAN ADRIAN TOVAR TORRES\"</td>\n",
       "    </tr>\n",
       "    <tr>\n",
       "      <th>204</th>\n",
       "      <td>\"SANTIAGO EUSEBIO GONZALEZ\"</td>\n",
       "    </tr>\n",
       "    <tr>\n",
       "      <th>205</th>\n",
       "      <td>\"MA ISABEL BALDERAS RAMIREZ\"</td>\n",
       "    </tr>\n",
       "  </tbody>\n",
       "</table>\n",
       "</div>"
      ],
      "text/plain": [
       "                                Nombre\n",
       "201      \"JUAN ANTONIO VEGA RODRIGUEZ\"\n",
       "202  \"FRANCISCO JAVIER RODRIGUEZ RUIZ\"\n",
       "203     \"CRISTIAN ADRIAN TOVAR TORRES\"\n",
       "204        \"SANTIAGO EUSEBIO GONZALEZ\"\n",
       "205       \"MA ISABEL BALDERAS RAMIREZ\""
      ]
     },
     "execution_count": 20,
     "metadata": {},
     "output_type": "execute_result"
    }
   ],
   "source": [
    "init=200\n",
    "final=250\n",
    "\n",
    "df = pd.read_excel('Z:/Data/HSBC/Asignaciones/ASG_TDC_IA_ENERO_JUNIO.xlsx')\n",
    "df['Nombre'] = df.Nombre.apply(lambda X: '\"'+X.replace('/', ' ').replace('*', '').rstrip()+'\"')\n",
    "df_filtered = df['Nombre']\n",
    "df_filtered.drop_duplicates(inplace=True)\n",
    "df_input = pd.DataFrame(df_filtered).iloc[init:final]\n",
    "df_input.head()"
   ]
  },
  {
   "cell_type": "code",
   "execution_count": null,
   "metadata": {},
   "outputs": [],
   "source": [
    "init=200\n",
    "final=1000\n",
    "\n",
    "df = pd.read_excel('Z:/Data/HSBC/Asignaciones/ASG_TDC_IA_ENERO_JUNIO.xlsx')\n",
    "df['Nombre'] = df.Nombre.apply(lambda X: X.replace('/', ' ').replace('*', '').rstrip())\n",
    "df_filtered = df['Nombre']\n",
    "df_filtered.drop_duplicates(inplace=True)\n",
    "df_input = pd.DataFrame(df_filtered).iloc[init:final]\n",
    "df_input.head()"
   ]
  },
  {
   "cell_type": "markdown",
   "metadata": {},
   "source": [
    "# Scrapper"
   ]
  },
  {
   "cell_type": "markdown",
   "metadata": {},
   "source": [
    "## Concatenado de etiquetas"
   ]
  },
  {
   "cell_type": "code",
   "execution_count": 24,
   "metadata": {},
   "outputs": [
    {
     "name": "stderr",
     "output_type": "stream",
     "text": [
      "  0%|          | 1/800 [00:13<3:04:12, 13.83s/it]\n"
     ]
    },
    {
     "ename": "NoSuchWindowException",
     "evalue": "Message: no such window: target window already closed\nfrom unknown error: web view not found\n  (Session info: chrome=114.0.5735.199)\nStacktrace:\nBacktrace:\n\tGetHandleVerifier [0x00EBA813+48355]\n\t(No symbol) [0x00E4C4B1]\n\t(No symbol) [0x00D55358]\n\t(No symbol) [0x00D3D293]\n\t(No symbol) [0x00D9E37B]\n\t(No symbol) [0x00DAC473]\n\t(No symbol) [0x00D9A536]\n\t(No symbol) [0x00D782DC]\n\t(No symbol) [0x00D793DD]\n\tGetHandleVerifier [0x0111AABD+2539405]\n\tGetHandleVerifier [0x0115A78F+2800735]\n\tGetHandleVerifier [0x0115456C+2775612]\n\tGetHandleVerifier [0x00F451E0+616112]\n\t(No symbol) [0x00E55F8C]\n\t(No symbol) [0x00E52328]\n\t(No symbol) [0x00E5240B]\n\t(No symbol) [0x00E44FF7]\n\tBaseThreadInitThunk [0x770805C9+25]\n\tRtlGetAppContainerNamedObjectPath [0x773E77AD+237]\n\tRtlGetAppContainerNamedObjectPath [0x773E777D+189]\n",
     "output_type": "error",
     "traceback": [
      "\u001b[1;31m---------------------------------------------------------------------------\u001b[0m",
      "\u001b[1;31mNoSuchWindowException\u001b[0m                     Traceback (most recent call last)",
      "Cell \u001b[1;32mIn[24], line 22\u001b[0m\n\u001b[0;32m     19\u001b[0m time\u001b[39m.\u001b[39msleep(\u001b[39m2\u001b[39m)\n\u001b[0;32m     21\u001b[0m \u001b[39m# Obtener el HTML de la página actual\u001b[39;00m\n\u001b[1;32m---> 22\u001b[0m html_link \u001b[39m=\u001b[39m driver\u001b[39m.\u001b[39;49mpage_source\n\u001b[0;32m     23\u001b[0m soup \u001b[39m=\u001b[39m BeautifulSoup(html_link, \u001b[39m'\u001b[39m\u001b[39mhtml.parser\u001b[39m\u001b[39m'\u001b[39m)\n\u001b[0;32m     25\u001b[0m \u001b[39m# Extracción de clases\u001b[39;00m\n",
      "File \u001b[1;32mc:\\Users\\DSTHREE\\AppData\\Local\\anaconda3\\lib\\site-packages\\selenium\\webdriver\\remote\\webdriver.py:447\u001b[0m, in \u001b[0;36mWebDriver.page_source\u001b[1;34m(self)\u001b[0m\n\u001b[0;32m    438\u001b[0m \u001b[39m@property\u001b[39m\n\u001b[0;32m    439\u001b[0m \u001b[39mdef\u001b[39;00m \u001b[39mpage_source\u001b[39m(\u001b[39mself\u001b[39m) \u001b[39m-\u001b[39m\u001b[39m>\u001b[39m \u001b[39mstr\u001b[39m:\n\u001b[0;32m    440\u001b[0m     \u001b[39m\"\"\"Gets the source of the current page.\u001b[39;00m\n\u001b[0;32m    441\u001b[0m \n\u001b[0;32m    442\u001b[0m \u001b[39m    :Usage:\u001b[39;00m\n\u001b[1;32m   (...)\u001b[0m\n\u001b[0;32m    445\u001b[0m \u001b[39m            driver.page_source\u001b[39;00m\n\u001b[0;32m    446\u001b[0m \u001b[39m    \"\"\"\u001b[39;00m\n\u001b[1;32m--> 447\u001b[0m     \u001b[39mreturn\u001b[39;00m \u001b[39mself\u001b[39;49m\u001b[39m.\u001b[39;49mexecute(Command\u001b[39m.\u001b[39;49mGET_PAGE_SOURCE)[\u001b[39m\"\u001b[39m\u001b[39mvalue\u001b[39m\u001b[39m\"\u001b[39m]\n",
      "File \u001b[1;32mc:\\Users\\DSTHREE\\AppData\\Local\\anaconda3\\lib\\site-packages\\selenium\\webdriver\\remote\\webdriver.py:346\u001b[0m, in \u001b[0;36mWebDriver.execute\u001b[1;34m(self, driver_command, params)\u001b[0m\n\u001b[0;32m    344\u001b[0m response \u001b[39m=\u001b[39m \u001b[39mself\u001b[39m\u001b[39m.\u001b[39mcommand_executor\u001b[39m.\u001b[39mexecute(driver_command, params)\n\u001b[0;32m    345\u001b[0m \u001b[39mif\u001b[39;00m response:\n\u001b[1;32m--> 346\u001b[0m     \u001b[39mself\u001b[39;49m\u001b[39m.\u001b[39;49merror_handler\u001b[39m.\u001b[39;49mcheck_response(response)\n\u001b[0;32m    347\u001b[0m     response[\u001b[39m\"\u001b[39m\u001b[39mvalue\u001b[39m\u001b[39m\"\u001b[39m] \u001b[39m=\u001b[39m \u001b[39mself\u001b[39m\u001b[39m.\u001b[39m_unwrap_value(response\u001b[39m.\u001b[39mget(\u001b[39m\"\u001b[39m\u001b[39mvalue\u001b[39m\u001b[39m\"\u001b[39m, \u001b[39mNone\u001b[39;00m))\n\u001b[0;32m    348\u001b[0m     \u001b[39mreturn\u001b[39;00m response\n",
      "File \u001b[1;32mc:\\Users\\DSTHREE\\AppData\\Local\\anaconda3\\lib\\site-packages\\selenium\\webdriver\\remote\\errorhandler.py:245\u001b[0m, in \u001b[0;36mErrorHandler.check_response\u001b[1;34m(self, response)\u001b[0m\n\u001b[0;32m    243\u001b[0m         alert_text \u001b[39m=\u001b[39m value[\u001b[39m\"\u001b[39m\u001b[39malert\u001b[39m\u001b[39m\"\u001b[39m]\u001b[39m.\u001b[39mget(\u001b[39m\"\u001b[39m\u001b[39mtext\u001b[39m\u001b[39m\"\u001b[39m)\n\u001b[0;32m    244\u001b[0m     \u001b[39mraise\u001b[39;00m exception_class(message, screen, stacktrace, alert_text)  \u001b[39m# type: ignore[call-arg]  # mypy is not smart enough here\u001b[39;00m\n\u001b[1;32m--> 245\u001b[0m \u001b[39mraise\u001b[39;00m exception_class(message, screen, stacktrace)\n",
      "\u001b[1;31mNoSuchWindowException\u001b[0m: Message: no such window: target window already closed\nfrom unknown error: web view not found\n  (Session info: chrome=114.0.5735.199)\nStacktrace:\nBacktrace:\n\tGetHandleVerifier [0x00EBA813+48355]\n\t(No symbol) [0x00E4C4B1]\n\t(No symbol) [0x00D55358]\n\t(No symbol) [0x00D3D293]\n\t(No symbol) [0x00D9E37B]\n\t(No symbol) [0x00DAC473]\n\t(No symbol) [0x00D9A536]\n\t(No symbol) [0x00D782DC]\n\t(No symbol) [0x00D793DD]\n\tGetHandleVerifier [0x0111AABD+2539405]\n\tGetHandleVerifier [0x0115A78F+2800735]\n\tGetHandleVerifier [0x0115456C+2775612]\n\tGetHandleVerifier [0x00F451E0+616112]\n\t(No symbol) [0x00E55F8C]\n\t(No symbol) [0x00E52328]\n\t(No symbol) [0x00E5240B]\n\t(No symbol) [0x00E44FF7]\n\tBaseThreadInitThunk [0x770805C9+25]\n\tRtlGetAppContainerNamedObjectPath [0x773E77AD+237]\n\tRtlGetAppContainerNamedObjectPath [0x773E777D+189]\n"
     ]
    }
   ],
   "source": [
    "\n",
    "data_ = []\n",
    "data = []\n",
    "nombres = []\n",
    "\n",
    "for i in tqdm(df_input['Nombre']):\n",
    "    \n",
    "    chrome_options = Options()\n",
    "    driver = webdriver.Chrome(options=chrome_options)\n",
    "    start_url = 'https://google.com'\n",
    "    driver.get(start_url)\n",
    "    \n",
    "    nombres.append(i)\n",
    "    wait = WebDriverWait(driver, 100000)\n",
    "    nombre = wait.until(EC.presence_of_element_located((By.CLASS_NAME, 'gLFyf')))\n",
    "    nombre.send_keys(i)\n",
    "    nombre.send_keys(Keys.ENTER)\n",
    "\n",
    "    # Esperar a que los resultados de búsqueda se carguen completamente\n",
    "    time.sleep(2)\n",
    "\n",
    "    # Obtener el HTML de la página actual\n",
    "    html_link = driver.page_source\n",
    "    soup = BeautifulSoup(html_link, 'html.parser')\n",
    "\n",
    "    # Extracción de clases\n",
    "    div = soup.find_all('div', class_=\"kvH3mc BToiNc UK95Uc\")\n",
    "    cont = soup.find_all('div', class_=\"Z26q7c UK95Uc\")\n",
    "\n",
    "    # Primer bucle para extraer la clase que conforma el bloque que corresponde al URL desplegado\n",
    "    if div:\n",
    "        for tag in div:\n",
    "            href_tags = tag.find_all('a', href=True)\n",
    "            text = tag.text\n",
    "\n",
    "            for href_tag in href_tags:\n",
    "                href = href_tag['href']\n",
    "\n",
    "                data.append({'href': href, 'Text': text, 'Nombre': i})\n",
    "    else:\n",
    "        data.append({'href': None, 'Text': None, 'Nombre': i})\n",
    "\n",
    "    # Segundo bucle para extraer los resúmenes de las URL desplegadas\n",
    "    if cont:\n",
    "        for tag in cont:\n",
    "            text = ''\n",
    "\n",
    "            span_tags = tag.find_all('span')\n",
    "            if span_tags:\n",
    "                for span_tag in span_tags:\n",
    "                    if span_tag.get('class', []) == ['ITHCWe']:\n",
    "                        continue\n",
    "                    text += span_tag.text.strip() + ' '\n",
    "            else:\n",
    "                text = tag.text.strip()\n",
    "\n",
    "            data_.append({'Text': text.strip()})\n",
    "    else:\n",
    "        data_.append({'Text': None})\n",
    "\n",
    "    #google = driver.find_element(By.CLASS_NAME, 'logo Ib7Efc')\n",
    "    #google.click()\n",
    "    \n",
    "    driver.quit()\n",
    "\n",
    "    # Rellenar los datos faltantes en data y data_ para tener la misma longitud\n",
    "    max_length = max(len(data), len(data_))\n",
    "    data += [{'href': None, 'Text': None}] * (max_length - len(data))\n",
    "    data_ += [{'Text': None}] * (max_length - len(data_))\n",
    "\n",
    "df = pd.DataFrame(data)\n",
    "df_2 = pd.DataFrame(data_)\n",
    "\n",
    "df_3 = pd.concat([df, df_2], axis=1)\n",
    "df_3.dropna(inplace=True)\n",
    "df_3 = df_3[df_3['href'].str.contains('facebook|twitter|instagram|linkedin|misprofesores|.org|tiktok', case=False)]\n",
    "df_3 = df_3[~df_3['href'].str.contains('translate.google')]\n",
    "\n",
    "\n",
    "# Se guarda el df en un csv\n",
    "df_3.to_csv('Z:/Data/HSBC/SCRAPPING/200_1000_.csv')\n",
    "\n"
   ]
  }
 ],
 "metadata": {
  "kernelspec": {
   "display_name": "base",
   "language": "python",
   "name": "python3"
  },
  "language_info": {
   "codemirror_mode": {
    "name": "ipython",
    "version": 3
   },
   "file_extension": ".py",
   "mimetype": "text/x-python",
   "name": "python",
   "nbconvert_exporter": "python",
   "pygments_lexer": "ipython3",
   "version": "3.10.9"
  },
  "orig_nbformat": 4
 },
 "nbformat": 4,
 "nbformat_minor": 2
}
