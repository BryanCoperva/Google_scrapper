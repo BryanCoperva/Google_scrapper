{
 "cells": [
  {
   "cell_type": "markdown",
   "metadata": {},
   "source": [
    "# Scrapper para obtener información de búsqueda de google (LinkdIn y/o Facebook)"
   ]
  },
  {
   "cell_type": "code",
   "execution_count": 11,
   "metadata": {},
   "outputs": [],
   "source": [
    "from selenium import webdriver\n",
    "from selenium.webdriver.common.by import By\n",
    "from selenium.webdriver.common.keys import Keys\n",
    "from selenium.webdriver.chrome.options import Options\n",
    "from selenium.webdriver.support.ui import WebDriverWait\n",
    "from selenium.webdriver.support import expected_conditions as EC\n",
    "from selenium.common.exceptions import TimeoutException\n",
    "from bs4 import BeautifulSoup\n",
    "import time\n",
    "import pandas as pd"
   ]
  },
  {
   "cell_type": "markdown",
   "metadata": {},
   "source": [
    "## Conexión al navegador"
   ]
  },
  {
   "cell_type": "code",
   "execution_count": 268,
   "metadata": {},
   "outputs": [],
   "source": [
    "chrome_options = Options()\n",
    "driver = webdriver.Chrome(options=chrome_options)\n",
    "start_url = 'https://google.com'\n",
    "driver.get(start_url)\n",
    "# Modificar el tamaño de la ventana\n",
    "#driver.execute_script(\"document.body.style.zoom='50%'\")"
   ]
  },
  {
   "cell_type": "markdown",
   "metadata": {},
   "source": [
    "## Lectura de archivos csv para obtener nombres"
   ]
  },
  {
   "cell_type": "code",
   "execution_count": 266,
   "metadata": {},
   "outputs": [
    {
     "data": {
      "text/html": [
       "<div>\n",
       "<style scoped>\n",
       "    .dataframe tbody tr th:only-of-type {\n",
       "        vertical-align: middle;\n",
       "    }\n",
       "\n",
       "    .dataframe tbody tr th {\n",
       "        vertical-align: top;\n",
       "    }\n",
       "\n",
       "    .dataframe thead th {\n",
       "        text-align: right;\n",
       "    }\n",
       "</style>\n",
       "<table border=\"1\" class=\"dataframe\">\n",
       "  <thead>\n",
       "    <tr style=\"text-align: right;\">\n",
       "      <th></th>\n",
       "      <th>Nombre</th>\n",
       "      <th>Paterno</th>\n",
       "      <th>Materno</th>\n",
       "      <th>NombreCompleto</th>\n",
       "    </tr>\n",
       "  </thead>\n",
       "  <tbody>\n",
       "    <tr>\n",
       "      <th>0</th>\n",
       "      <td>Bryan Antonio</td>\n",
       "      <td>Polito</td>\n",
       "      <td>Palma</td>\n",
       "      <td>Bryan Antonio Polito Palma</td>\n",
       "    </tr>\n",
       "    <tr>\n",
       "      <th>1</th>\n",
       "      <td>Luis</td>\n",
       "      <td>Cruz</td>\n",
       "      <td>Jaramillo</td>\n",
       "      <td>Luis Cruz Jaramillo</td>\n",
       "    </tr>\n",
       "    <tr>\n",
       "      <th>2</th>\n",
       "      <td>Bryan Antonio</td>\n",
       "      <td>Polito</td>\n",
       "      <td>Palma</td>\n",
       "      <td>Bryan Antonio Polito Palma</td>\n",
       "    </tr>\n",
       "    <tr>\n",
       "      <th>3</th>\n",
       "      <td>José Alberto</td>\n",
       "      <td>Montán</td>\n",
       "      <td>López</td>\n",
       "      <td>José Alberto Montán López</td>\n",
       "    </tr>\n",
       "    <tr>\n",
       "      <th>4</th>\n",
       "      <td>Andres Manuel</td>\n",
       "      <td>Lopez</td>\n",
       "      <td>Obrador</td>\n",
       "      <td>Andres Manuel Lopez Obrador</td>\n",
       "    </tr>\n",
       "    <tr>\n",
       "      <th>5</th>\n",
       "      <td>Jorge Luis</td>\n",
       "      <td>Lopez</td>\n",
       "      <td></td>\n",
       "      <td>Jorge Luis Lopez</td>\n",
       "    </tr>\n",
       "    <tr>\n",
       "      <th>6</th>\n",
       "      <td>Juan de Dios</td>\n",
       "      <td>Olivares</td>\n",
       "      <td>Jimenez</td>\n",
       "      <td>Juan de Dios  Olivares Jimenez</td>\n",
       "    </tr>\n",
       "    <tr>\n",
       "      <th>7</th>\n",
       "      <td>Bryan Antonio</td>\n",
       "      <td>Polito</td>\n",
       "      <td>Palma</td>\n",
       "      <td>Bryan Antonio Polito Palma</td>\n",
       "    </tr>\n",
       "    <tr>\n",
       "      <th>8</th>\n",
       "      <td>José Alberto</td>\n",
       "      <td>Montán</td>\n",
       "      <td>López</td>\n",
       "      <td>José Alberto Montán López</td>\n",
       "    </tr>\n",
       "  </tbody>\n",
       "</table>\n",
       "</div>"
      ],
      "text/plain": [
       "          Nombre   Paterno    Materno                  NombreCompleto\n",
       "0  Bryan Antonio    Polito      Palma      Bryan Antonio Polito Palma\n",
       "1           Luis      Cruz  Jaramillo             Luis Cruz Jaramillo\n",
       "2  Bryan Antonio    Polito      Palma      Bryan Antonio Polito Palma\n",
       "3   José Alberto    Montán      López       José Alberto Montán López\n",
       "4  Andres Manuel     Lopez    Obrador     Andres Manuel Lopez Obrador\n",
       "5     Jorge Luis     Lopez                          Jorge Luis Lopez \n",
       "6  Juan de Dios   Olivares    Jimenez  Juan de Dios  Olivares Jimenez\n",
       "7  Bryan Antonio    Polito      Palma      Bryan Antonio Polito Palma\n",
       "8   José Alberto    Montán      López       José Alberto Montán López"
      ]
     },
     "execution_count": 266,
     "metadata": {},
     "output_type": "execute_result"
    }
   ],
   "source": [
    "df_4 = pd.read_csv('ejemplo.csv', keep_default_na=False) \n",
    "df_4['NombreCompleto'] = df_4.apply(lambda row: f\"{row['Nombre']} {row['Paterno']} {row['Materno']}\", axis=1)\n",
    "df_4"
   ]
  },
  {
   "cell_type": "markdown",
   "metadata": {},
   "source": [
    "# Scrapper"
   ]
  },
  {
   "cell_type": "markdown",
   "metadata": {},
   "source": [
    "## Concatenado de etiquetas"
   ]
  },
  {
   "cell_type": "code",
   "execution_count": null,
   "metadata": {},
   "outputs": [],
   "source": [
    "data_ = []\n",
    "data = []\n",
    "\n",
    "for i in df_4['NombreCompleto']:\n",
    "    nombres.append(i)\n",
    "    nombre = driver.find_element(By.XPATH, '//*[@id=\"APjFqb\"]')\n",
    "    nombre.send_keys(Keys.CONTROL + \"a\")\n",
    "    nombre.send_keys(Keys.DELETE)\n",
    "    nombre.send_keys(i)\n",
    "    nombre.send_keys(Keys.ENTER)\n",
    "\n",
    "    # Esperar a que los resultados de búsqueda se carguen completamente\n",
    "    time.sleep(2)\n",
    "\n",
    "    # Obtener el HTML de la página actual\n",
    "    html_link = driver.page_source\n",
    "    soup = BeautifulSoup(html_link, 'html.parser')\n",
    "\n",
    "    # Extracción de clases\n",
    "    div = soup.find_all('div', class_=\"kvH3mc BToiNc UK95Uc\")\n",
    "    cont = soup.find_all('div', class_=\"Z26q7c UK95Uc\")\n",
    "\n",
    "    # Primer bucle para extraer la clase que conforma el bloque que corresponde al URL desplegado\n",
    "    if div:\n",
    "        for tag in div:\n",
    "            href_tags = tag.find_all('a', href=True)\n",
    "            text = tag.text\n",
    "\n",
    "            for href_tag in href_tags:\n",
    "                href = href_tag['href']\n",
    "\n",
    "                data.append({'href': href, 'Text': text, 'Nombre': i})\n",
    "    else:\n",
    "        data.append({'href': None, 'Text': None, 'Nombre': i})\n",
    "\n",
    "    # Segundo bucle para extraer los resúmenes de las URL desplegadas\n",
    "    if cont:\n",
    "        for tag in cont:\n",
    "            text = ''\n",
    "\n",
    "            span_tags = tag.find_all('span')\n",
    "            if span_tags:\n",
    "                for span_tag in span_tags:\n",
    "                    if span_tag.get('class', []) == ['ITHCWe']:\n",
    "                        continue\n",
    "                    text += span_tag.text.strip() + ' '\n",
    "            else:\n",
    "                text = tag.text.strip()\n",
    "\n",
    "            data_.append({'Text': text.strip()})\n",
    "    else:\n",
    "        data_.append({'Text': None})\n",
    "\n",
    "    google = driver.find_element(By.XPATH, '//*[@id=\"logo\"]')\n",
    "    google.click()\n",
    "\n",
    "    # Rellenar los datos faltantes en data y data_ para tener la misma longitud\n",
    "    max_length = max(len(data), len(data_))\n",
    "    data += [{'href': None, 'Text': None}] * (max_length - len(data))\n",
    "    data_ += [{'Text': None}] * (max_length - len(data_))\n",
    "\n",
    "df = pd.DataFrame(data)\n",
    "df_2 = pd.DataFrame(data_)\n",
    "\n",
    "df_3 = pd.concat([df, df_2], axis=1)\n",
    "df_3 = df_3[df_3['href'].str.contains('facebook|twitter|instagram|linkedin', case=False)]\n",
    "df_3 = df_3[~df_3['href'].str.contains('translate.google')]\n",
    "\n",
    "\n",
    "# Se guarda el df en un csv\n",
    "df_3.to_csv('dataframe3.csv')\n"
   ]
  }
 ],
 "metadata": {
  "kernelspec": {
   "display_name": "base",
   "language": "python",
   "name": "python3"
  },
  "language_info": {
   "codemirror_mode": {
    "name": "ipython",
    "version": 3
   },
   "file_extension": ".py",
   "mimetype": "text/x-python",
   "name": "python",
   "nbconvert_exporter": "python",
   "pygments_lexer": "ipython3",
   "version": "3.10.9"
  },
  "orig_nbformat": 4
 },
 "nbformat": 4,
 "nbformat_minor": 2
}
